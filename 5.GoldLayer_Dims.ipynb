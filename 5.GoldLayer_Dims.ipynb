{
 "cells": [
  {
   "cell_type": "markdown",
   "metadata": {
    "application/vnd.databricks.v1+cell": {
     "cellMetadata": {
      "byteLimit": 2048000,
      "rowLimit": 10000
     },
     "inputWidgets": {},
     "nuid": "6c4ccabc-d91d-4c38-88a2-2d9fb66540c1",
     "showTitle": false,
     "tableResultSettingsMap": {},
     "title": ""
    }
   },
   "source": [
    "### Fetching parameters & Creating variables"
   ]
  },
  {
   "cell_type": "code",
   "execution_count": 0,
   "metadata": {
    "application/vnd.databricks.v1+cell": {
     "cellMetadata": {
      "byteLimit": 2048000,
      "rowLimit": 10000
     },
     "inputWidgets": {},
     "nuid": "279f1c46-32ef-49ce-a7d5-d972d8969a7c",
     "showTitle": false,
     "tableResultSettingsMap": {},
     "title": ""
    }
   },
   "outputs": [],
   "source": [
    "from pyspark.sql.functions import *\n",
    "from pyspark.sql.types import *"
   ]
  },
  {
   "cell_type": "code",
   "execution_count": 0,
   "metadata": {
    "application/vnd.databricks.v1+cell": {
     "cellMetadata": {
      "byteLimit": 2048000,
      "rowLimit": 10000
     },
     "inputWidgets": {},
     "nuid": "4bb8161e-6d99-482c-a6ef-c5d7386bf0fd",
     "showTitle": false,
     "tableResultSettingsMap": {},
     "title": ""
    }
   },
   "outputs": [],
   "source": [
    "# Key cols list\n",
    "key_cols = \"['flight_id']\"\n",
    "key_cols_list = eval(key_cols)\n",
    "\n",
    "# CDC column\n",
    "cdc_col = \"modifiedDate\"\n",
    "\n",
    "# Back-dated refresh\n",
    "backdated_refresh = \"\"\n",
    "\n",
    "# Source database\n",
    "catalog = \"flightsproject\"\n",
    "\n",
    "# Source object\n",
    "source_object = \"silver_flights\"\n",
    "\n",
    "# Source schema\n",
    "source_schema = \"silver\"\n",
    "\n",
    "# Target schema\n",
    "target_schema = \"gold\"\n",
    "\n",
    "# Target object\n",
    "target_object = \"DimFlights\"\n",
    "\n",
    "# Surrogate key\n",
    "surrogate_key = \"DimFlightsKey\""
   ]
  },
  {
   "cell_type": "code",
   "execution_count": 0,
   "metadata": {
    "application/vnd.databricks.v1+cell": {
     "cellMetadata": {
      "byteLimit": 2048000,
      "rowLimit": 10000
     },
     "inputWidgets": {},
     "nuid": "ce487203-953b-4a95-a6ce-ed5859a9313c",
     "showTitle": false,
     "tableResultSettingsMap": {},
     "title": ""
    }
   },
   "outputs": [],
   "source": [
    "# # Key cols list\n",
    "# key_cols = \"['airport_id']\"\n",
    "# key_cols_list = eval(key_cols)\n",
    "\n",
    "# # CDC column\n",
    "# cdc_col = \"modifiedDate\"\n",
    "\n",
    "# # Back-dated refresh\n",
    "# backdated_refresh = \"\"\n",
    "\n",
    "# # Source database\n",
    "# catalog = \"flightsproject\"\n",
    "\n",
    "# # Source object\n",
    "# source_object = \"silver_airports\"\n",
    "\n",
    "# # Source schema\n",
    "# source_schema = \"silver\"\n",
    "\n",
    "# # Target schema\n",
    "# target_schema = \"gold\"\n",
    "\n",
    "# # Target object\n",
    "# target_object = \"DimAirports\"\n",
    "\n",
    "# # Surrogate key\n",
    "# surrogate_key = \"DimAirportsKey\""
   ]
  },
  {
   "cell_type": "code",
   "execution_count": 0,
   "metadata": {
    "application/vnd.databricks.v1+cell": {
     "cellMetadata": {
      "byteLimit": 2048000,
      "rowLimit": 10000
     },
     "inputWidgets": {},
     "nuid": "cf038aec-ae54-4561-8c4f-a04b60c09419",
     "showTitle": false,
     "tableResultSettingsMap": {},
     "title": ""
    }
   },
   "outputs": [],
   "source": [
    "# # Key cols list\n",
    "# key_cols = \"['passenger_id']\"\n",
    "# key_cols_list = eval(key_cols)\n",
    "\n",
    "# # CDC column\n",
    "# cdc_col = \"modifiedDate\"\n",
    "\n",
    "# # Back-dated refresh\n",
    "# backdated_refresh = \"\"\n",
    "\n",
    "# # Source database\n",
    "# catalog = \"flightsproject\"\n",
    "\n",
    "# # Source object\n",
    "# source_object = \"silver_passengers\"\n",
    "\n",
    "# # Source schema\n",
    "# source_schema = \"silver\"\n",
    "\n",
    "# # Target schema\n",
    "# target_schema = \"gold\"\n",
    "\n",
    "# # Target object\n",
    "# target_object = \"DimPassengers\"\n",
    "\n",
    "# # Surrogate key\n",
    "# surrogate_key = \"DimPassengersKey\""
   ]
  },
  {
   "cell_type": "markdown",
   "metadata": {
    "application/vnd.databricks.v1+cell": {
     "cellMetadata": {
      "byteLimit": 2048000,
      "rowLimit": 10000
     },
     "inputWidgets": {},
     "nuid": "64896bfc-e5fd-4c00-a40f-a81a0da15baa",
     "showTitle": false,
     "tableResultSettingsMap": {},
     "title": ""
    }
   },
   "source": [
    "### Incremental Data Ingestion"
   ]
  },
  {
   "cell_type": "markdown",
   "metadata": {
    "application/vnd.databricks.v1+cell": {
     "cellMetadata": {
      "byteLimit": 2048000,
      "rowLimit": 10000
     },
     "inputWidgets": {},
     "nuid": "fcd88d31-38e6-4d37-add5-4aec028a36f4",
     "showTitle": false,
     "tableResultSettingsMap": {},
     "title": ""
    }
   },
   "source": [
    "### Last load date"
   ]
  },
  {
   "cell_type": "code",
   "execution_count": 0,
   "metadata": {
    "application/vnd.databricks.v1+cell": {
     "cellMetadata": {
      "byteLimit": 2048000,
      "rowLimit": 10000
     },
     "inputWidgets": {},
     "nuid": "a854d7a3-4bdc-4a71-a6ef-a0b7cf2a3f11",
     "showTitle": false,
     "tableResultSettingsMap": {},
     "title": ""
    }
   },
   "outputs": [],
   "source": [
    "# no back dated refresh\n",
    "if len(backdated_refresh) == 0:\n",
    "    # if table exists in destination\n",
    "    if spark.catalog.tableExists(f\"{target_schema}.{target_object}\"):\n",
    "        last_load = spark.sql(f\"select max({cdc_col}) from {catalog}.{target_schema}.{target_object}\").collect()[0][0]\n",
    "    else:\n",
    "        last_load = \"1900-01-01 00:00:00\" # initial load, so we can load everything\n",
    "# yes back dated refresh\n",
    "else:\n",
    "    last_load = backdated_refresh\n",
    "\n",
    "# test the last load\n",
    "last_load"
   ]
  },
  {
   "cell_type": "code",
   "execution_count": 0,
   "metadata": {
    "application/vnd.databricks.v1+cell": {
     "cellMetadata": {
      "byteLimit": 2048000,
      "rowLimit": 10000
     },
     "inputWidgets": {},
     "nuid": "1ccd701a-0518-4ad3-8dd5-aea3d8c4f1ec",
     "showTitle": false,
     "tableResultSettingsMap": {},
     "title": ""
    }
   },
   "outputs": [],
   "source": [
    "df_src = spark.sql(f\"select * from {catalog}.{source_schema}.{source_object} where {cdc_col} > '{last_load}'\")\n",
    "display(df_src)"
   ]
  },
  {
   "cell_type": "markdown",
   "metadata": {
    "application/vnd.databricks.v1+cell": {
     "cellMetadata": {
      "byteLimit": 2048000,
      "rowLimit": 10000
     },
     "inputWidgets": {},
     "nuid": "93ff5bd5-26e3-4482-84ec-71b9da5607ea",
     "showTitle": false,
     "tableResultSettingsMap": {},
     "title": ""
    }
   },
   "source": [
    "### Old vs New Records"
   ]
  },
  {
   "cell_type": "code",
   "execution_count": 0,
   "metadata": {
    "application/vnd.databricks.v1+cell": {
     "cellMetadata": {
      "byteLimit": 2048000,
      "rowLimit": 10000
     },
     "inputWidgets": {},
     "nuid": "aa227832-d5d0-440a-9a5f-c4c65f4bbf17",
     "showTitle": false,
     "tableResultSettingsMap": {},
     "title": ""
    }
   },
   "outputs": [],
   "source": [
    "key_cols_string_incremental = \", \".join(key_cols_list)\n",
    "key_cols_string_incremental"
   ]
  },
  {
   "cell_type": "code",
   "execution_count": 0,
   "metadata": {
    "application/vnd.databricks.v1+cell": {
     "cellMetadata": {
      "byteLimit": 2048000,
      "rowLimit": 10000
     },
     "inputWidgets": {},
     "nuid": "1c351a9c-1fdf-47da-8b99-d39a575a557a",
     "showTitle": false,
     "tableResultSettingsMap": {},
     "title": ""
    }
   },
   "outputs": [],
   "source": [
    "if spark.catalog.tableExists(f\"{catalog}.{target_schema}.{target_object}\"):\n",
    "    # key columns string for incremental\n",
    "    key_cols_string_incremental = \", \".join(key_cols_list)\n",
    "    \n",
    "    df_tgt = spark.sql(f\"select {key_cols_string_incremental}, {surrogate_key}, create_date, update_date \\\n",
    "                       from {catalog}.{target_schema}.{target_object}\")\n",
    "else:\n",
    "    # key columns string for initial\n",
    "    key_cols_string_initial = [f\"'' as {i}\" for i in key_cols_list]\n",
    "    key_cols_string_initial = \", \".join(key_cols_string_initial)\n",
    "    \n",
    "    df_tgt = spark.sql(f\"select {key_cols_string_initial}, cast('0' as int) as {surrogate_key}, cast('1900-01-01 00:00:00' as timestamp) as create_date, cast('1900-01-01 00:00:00' as timestamp) as update_date where 1=0\")\n",
    "\n",
    "df_tgt.display()"
   ]
  },
  {
   "cell_type": "markdown",
   "metadata": {
    "application/vnd.databricks.v1+cell": {
     "cellMetadata": {
      "byteLimit": 2048000,
      "rowLimit": 10000
     },
     "inputWidgets": {},
     "nuid": "3639efff-5957-4204-8369-e94f4d3952d3",
     "showTitle": false,
     "tableResultSettingsMap": {},
     "title": ""
    }
   },
   "source": [
    "### Join Condition"
   ]
  },
  {
   "cell_type": "code",
   "execution_count": 0,
   "metadata": {
    "application/vnd.databricks.v1+cell": {
     "cellMetadata": {
      "byteLimit": 2048000,
      "rowLimit": 10000
     },
     "inputWidgets": {},
     "nuid": "8a19a042-2d42-4213-8b45-2cfecf01e7c2",
     "showTitle": false,
     "tableResultSettingsMap": {},
     "title": ""
    }
   },
   "outputs": [],
   "source": [
    "join_condition = ' AND '.join([f\"src.{i} = tgt.{i}\" for i in key_cols_list])\n",
    "print(join_condition)"
   ]
  },
  {
   "cell_type": "code",
   "execution_count": 0,
   "metadata": {
    "application/vnd.databricks.v1+cell": {
     "cellMetadata": {
      "byteLimit": 2048000,
      "rowLimit": 10000
     },
     "inputWidgets": {},
     "nuid": "98a38d23-fc4a-41d4-8cd8-2683b2dbfd9d",
     "showTitle": false,
     "tableResultSettingsMap": {
      "0": {
       "dataGridStateBlob": "{\"version\":1,\"tableState\":{\"columnPinning\":{\"left\":[\"#row_number#\"],\"right\":[]},\"columnSizing\":{},\"columnVisibility\":{}},\"settings\":{\"columns\":{}},\"syncTimestamp\":1760605117909}",
       "filterBlob": null,
       "queryPlanFiltersBlob": null,
       "tableResultIndex": 0
      }
     },
     "title": ""
    }
   },
   "outputs": [],
   "source": [
    "df_src.createOrReplaceTempView(\"src\")\n",
    "df_tgt.createOrReplaceTempView(\"tgt\")\n",
    "\n",
    "df_join = spark.sql(f\"\"\"\n",
    "                    select src.*,\n",
    "                            tgt.{surrogate_key},\n",
    "                            tgt.create_date,\n",
    "                            tgt.update_date\n",
    "                    from src\n",
    "                    left join tgt\n",
    "                    on {join_condition}\n",
    "                    \"\"\")\n",
    "df_join.display()"
   ]
  },
  {
   "cell_type": "code",
   "execution_count": 0,
   "metadata": {
    "application/vnd.databricks.v1+cell": {
     "cellMetadata": {
      "byteLimit": 2048000,
      "rowLimit": 10000
     },
     "inputWidgets": {},
     "nuid": "e61a2168-e4df-48ac-a60d-a536cbcd3415",
     "showTitle": false,
     "tableResultSettingsMap": {
      "0": {
       "dataGridStateBlob": "{\"version\":1,\"tableState\":{\"columnPinning\":{\"left\":[\"#row_number#\"],\"right\":[]},\"columnSizing\":{},\"columnVisibility\":{}},\"settings\":{\"columns\":{}},\"syncTimestamp\":1760604691295}",
       "filterBlob": null,
       "queryPlanFiltersBlob": null,
       "tableResultIndex": 0
      },
      "1": {
       "dataGridStateBlob": "{\"version\":1,\"tableState\":{\"columnPinning\":{\"left\":[\"#row_number#\"],\"right\":[]},\"columnSizing\":{},\"columnVisibility\":{}},\"settings\":{\"columns\":{}},\"syncTimestamp\":1760605118928}",
       "filterBlob": null,
       "queryPlanFiltersBlob": null,
       "tableResultIndex": 1
      }
     },
     "title": ""
    }
   },
   "outputs": [],
   "source": [
    "# Old records\n",
    "df_old = df_join.filter(col(f'{surrogate_key}').isNotNull())\n",
    "display(df_old)\n",
    "\n",
    "# New records\n",
    "df_new = df_join.filter(col(f'{surrogate_key}').isNull())\n",
    "display(df_new)\n"
   ]
  },
  {
   "cell_type": "markdown",
   "metadata": {
    "application/vnd.databricks.v1+cell": {
     "cellMetadata": {
      "byteLimit": 2048000,
      "rowLimit": 10000
     },
     "inputWidgets": {},
     "nuid": "373a62b7-192f-4d61-aa53-78ad76498ef2",
     "showTitle": false,
     "tableResultSettingsMap": {},
     "title": ""
    }
   },
   "source": [
    "### Preparing df_old"
   ]
  },
  {
   "cell_type": "code",
   "execution_count": 0,
   "metadata": {
    "application/vnd.databricks.v1+cell": {
     "cellMetadata": {
      "byteLimit": 2048000,
      "rowLimit": 10000
     },
     "inputWidgets": {},
     "nuid": "0b0d2314-d242-454d-9a8e-a8a9525a83f0",
     "showTitle": false,
     "tableResultSettingsMap": {},
     "title": ""
    }
   },
   "outputs": [],
   "source": [
    "df_old_enriched = df_old.withColumn('update_date', current_timestamp())"
   ]
  },
  {
   "cell_type": "markdown",
   "metadata": {
    "application/vnd.databricks.v1+cell": {
     "cellMetadata": {
      "byteLimit": 2048000,
      "rowLimit": 10000
     },
     "inputWidgets": {},
     "nuid": "de81062e-2b93-4ada-af8d-62ee24fe0494",
     "showTitle": false,
     "tableResultSettingsMap": {},
     "title": ""
    }
   },
   "source": [
    "### Preparing df_new"
   ]
  },
  {
   "cell_type": "code",
   "execution_count": 0,
   "metadata": {
    "application/vnd.databricks.v1+cell": {
     "cellMetadata": {
      "byteLimit": 2048000,
      "rowLimit": 10000
     },
     "inputWidgets": {},
     "nuid": "6086f980-b5d7-4568-a903-e2da55baa706",
     "showTitle": false,
     "tableResultSettingsMap": {},
     "title": ""
    }
   },
   "outputs": [],
   "source": [
    "if spark.catalog.tableExists(f\"{catalog}.{target_schema}.{target_object}\"):\n",
    "    max_surrogate_key = spark.sql(f\"\"\"\n",
    "                                  select max({surrogate_key}) \\\n",
    "                                  from {catalog}.{target_schema}.{target_object}\"\"\") \\\n",
    "                                  .collect()[0][0] # collect() returns a list of rows and [0][0] gets its first element (value)\n",
    "    df_new_enriched = df_new.withColumn(f'{surrogate_key}', lit(max_surrogate_key + 1) + monotonically_increasing_id()) \\\n",
    "                            .withColumn('create_date', current_timestamp()) \\\n",
    "                            .withColumn('update_date', current_timestamp())\n",
    "else:\n",
    "    max_surrogate_key = 0 # just adding 1 to start the surrogate key at 1 instead of 0. monotonically_increasing_id() is used to increment the surrogate key\n",
    "    df_new_enriched = df_new.withColumn(f'{surrogate_key}', lit(max_surrogate_key + 1) + monotonically_increasing_id()) \\\n",
    "                            .withColumn('create_date', current_timestamp()) \\\n",
    "                            .withColumn('update_date', current_timestamp())\n",
    "\n",
    "display(df_new_enriched)"
   ]
  },
  {
   "cell_type": "markdown",
   "metadata": {
    "application/vnd.databricks.v1+cell": {
     "cellMetadata": {
      "byteLimit": 2048000,
      "rowLimit": 10000
     },
     "inputWidgets": {},
     "nuid": "22200019-159f-4547-8559-0adf4c5402c9",
     "showTitle": false,
     "tableResultSettingsMap": {},
     "title": ""
    }
   },
   "source": [
    "### Union between old and new records"
   ]
  },
  {
   "cell_type": "code",
   "execution_count": 0,
   "metadata": {
    "application/vnd.databricks.v1+cell": {
     "cellMetadata": {
      "byteLimit": 2048000,
      "rowLimit": 10000
     },
     "inputWidgets": {},
     "nuid": "11b6da92-2b80-4e58-b410-5f05a647c573",
     "showTitle": false,
     "tableResultSettingsMap": {},
     "title": ""
    }
   },
   "outputs": [],
   "source": [
    "df_old.printSchema()"
   ]
  },
  {
   "cell_type": "code",
   "execution_count": 0,
   "metadata": {
    "application/vnd.databricks.v1+cell": {
     "cellMetadata": {
      "byteLimit": 2048000,
      "rowLimit": 10000
     },
     "inputWidgets": {},
     "nuid": "6fd75613-0c66-4424-bca1-85ec6b0115fa",
     "showTitle": false,
     "tableResultSettingsMap": {
      "0": {
       "dataGridStateBlob": "{\"version\":1,\"tableState\":{\"columnPinning\":{\"left\":[\"#row_number#\"],\"right\":[]},\"columnSizing\":{},\"columnVisibility\":{}},\"settings\":{\"columns\":{}},\"syncTimestamp\":1760605121080}",
       "filterBlob": null,
       "queryPlanFiltersBlob": null,
       "tableResultIndex": 0
      }
     },
     "title": ""
    }
   },
   "outputs": [],
   "source": [
    "df_union = df_old_enriched.unionByName(df_new_enriched)\n",
    "display(df_union)"
   ]
  },
  {
   "cell_type": "markdown",
   "metadata": {
    "application/vnd.databricks.v1+cell": {
     "cellMetadata": {
      "byteLimit": 2048000,
      "rowLimit": 10000
     },
     "inputWidgets": {},
     "nuid": "9bddc8f4-35cd-4014-bf64-d375ab6a22e2",
     "showTitle": false,
     "tableResultSettingsMap": {},
     "title": ""
    }
   },
   "source": [
    "### Upsert"
   ]
  },
  {
   "cell_type": "code",
   "execution_count": 0,
   "metadata": {
    "application/vnd.databricks.v1+cell": {
     "cellMetadata": {
      "byteLimit": 2048000,
      "rowLimit": 10000
     },
     "inputWidgets": {},
     "nuid": "bed6f6dd-830c-41dc-8cb6-f944536ecb7f",
     "showTitle": false,
     "tableResultSettingsMap": {},
     "title": ""
    }
   },
   "outputs": [],
   "source": [
    "from delta.tables import DeltaTable"
   ]
  },
  {
   "cell_type": "code",
   "execution_count": 0,
   "metadata": {
    "application/vnd.databricks.v1+cell": {
     "cellMetadata": {
      "byteLimit": 2048000,
      "rowLimit": 10000
     },
     "inputWidgets": {},
     "nuid": "35117dfd-0809-4553-a308-9cfdd2d5d6c1",
     "showTitle": false,
     "tableResultSettingsMap": {},
     "title": ""
    }
   },
   "outputs": [],
   "source": [
    "if spark.catalog.tableExists(f\"{catalog}.{target_schema}.{target_object}\"):\n",
    "    dlt_obj = DeltaTable.forName(spark, f\"{catalog}.{target_schema}.{target_object}\")\n",
    "    \n",
    "    dlt_obj.alias(\"tgt\").merge(df_union.alias(\"src\"), \\\n",
    "            f\"tgt.{surrogate_key} = src.{surrogate_key}\") \\\n",
    "        .whenMatchedUpdateAll(condition = f\"src.{cdc_col} >= tgt.{cdc_col}\") \\\n",
    "        .whenNotMatchedInsertAll() \\\n",
    "        .execute()\n",
    "else:\n",
    "    df_union.write.format(\"delta\") \\\n",
    "        .mode(\"append\") \\\n",
    "        .saveAsTable(f\"{catalog}.{target_schema}.{target_object}\")"
   ]
  },
  {
   "cell_type": "code",
   "execution_count": 0,
   "metadata": {
    "application/vnd.databricks.v1+cell": {
     "cellMetadata": {
      "byteLimit": 2048000,
      "implicitDf": true,
      "rowLimit": 10000
     },
     "inputWidgets": {},
     "nuid": "34228646-ba1e-4855-8d76-d185074f6d50",
     "showTitle": false,
     "tableResultSettingsMap": {
      "0": {
       "dataGridStateBlob": "{\"version\":1,\"tableState\":{\"columnPinning\":{\"left\":[\"#row_number#\"],\"right\":[]},\"columnSizing\":{},\"columnVisibility\":{}},\"settings\":{\"columns\":{}},\"syncTimestamp\":1760604958679}",
       "filterBlob": null,
       "queryPlanFiltersBlob": null,
       "tableResultIndex": 0
      }
     },
     "title": ""
    }
   },
   "outputs": [],
   "source": [
    "%sql\n",
    "select * from flightsproject.gold.dimflights"
   ]
  }
 ],
 "metadata": {
  "application/vnd.databricks.v1+notebook": {
   "computePreferences": {
    "hardware": {
     "accelerator": null,
     "gpuPoolId": null,
     "memory": null
    }
   },
   "dashboards": [],
   "environmentMetadata": {
    "base_environment": "",
    "environment_version": "4"
   },
   "inputWidgetPreferences": null,
   "language": "python",
   "notebookMetadata": {
    "mostRecentlyExecutedCommandWithImplicitDF": {
     "commandId": 8220032807531968,
     "dataframes": [
      "_sqldf"
     ]
    },
    "pythonIndentUnit": 4
   },
   "notebookName": "5.GoldLayer_Dims",
   "widgets": {}
  },
  "language_info": {
   "name": "python"
  }
 },
 "nbformat": 4,
 "nbformat_minor": 0
}
